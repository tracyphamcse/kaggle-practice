{
 "cells": [
  {
   "cell_type": "markdown",
   "metadata": {},
   "source": [
    "# Training Model"
   ]
  },
  {
   "cell_type": "markdown",
   "metadata": {},
   "source": [
    "### 1. Import library"
   ]
  },
  {
   "cell_type": "code",
   "execution_count": 129,
   "metadata": {
    "collapsed": false
   },
   "outputs": [],
   "source": [
    "#pandas\n",
    "import pandas as pd\n",
    "from pandas import Series,DataFrame\n",
    "pd.set_option('display.max_columns', 500)\n",
    "\n",
    "# machine learning\n",
    "from sklearn.preprocessing import Normalizer\n",
    "from sklearn.model_selection import train_test_split\n",
    "from sklearn.linear_model import LogisticRegression\n",
    "from sklearn.svm import SVC, LinearSVC\n",
    "from sklearn.ensemble import RandomForestClassifier, ExtraTreesClassifier\n",
    "from sklearn.neighbors import KNeighborsClassifier\n",
    "from sklearn.naive_bayes import GaussianNB\n",
    "from sklearn.metrics import classification_report, accuracy_score"
   ]
  },
  {
   "cell_type": "markdown",
   "metadata": {},
   "source": [
    "### 2. Prepare data"
   ]
  },
  {
   "cell_type": "code",
   "execution_count": 40,
   "metadata": {
    "collapsed": true
   },
   "outputs": [],
   "source": [
    "train_df = pd.read_csv('resource/train.csv')"
   ]
  },
  {
   "cell_type": "code",
   "execution_count": 41,
   "metadata": {
    "collapsed": true
   },
   "outputs": [],
   "source": [
    "def get_wilderness(wilderness_col):\n",
    "    type1, type2, type3, type4 = wilderness_col\n",
    "    if (type1) : return 1\n",
    "    if (type2) : return 2\n",
    "    if (type3) : return 3\n",
    "    return 4\n",
    "train_df['Wilderness'] = train_df[['Wilderness_Area1','Wilderness_Area2','Wilderness_Area3','Wilderness_Area4']].apply(get_wilderness,axis=1)"
   ]
  },
  {
   "cell_type": "code",
   "execution_count": 42,
   "metadata": {
    "collapsed": true
   },
   "outputs": [],
   "source": [
    "def get_soil_type(soil_type_col):\n",
    "    for index, item in enumerate (soil_type_col):\n",
    "        if (item): return (index + 1)\n",
    "            \n",
    "\n",
    "soil_type = []\n",
    "for i in range(1,41):\n",
    "    soil_type.append('Soil_Type'+str(i))\n",
    "\n",
    "train_df['Soil_type'] = train_df[soil_type].apply(get_soil_type,axis=1)"
   ]
  },
  {
   "cell_type": "code",
   "execution_count": 151,
   "metadata": {
    "collapsed": true
   },
   "outputs": [],
   "source": [
    "train_df.drop('Id', axis=1)\n",
    "train, dev = train_test_split(train_df, test_size = 0.01, random_state=1234)"
   ]
  },
  {
   "cell_type": "code",
   "execution_count": 152,
   "metadata": {
    "collapsed": false
   },
   "outputs": [
    {
     "name": "stdout",
     "output_type": "stream",
     "text": [
      "\n"
     ]
    }
   ],
   "source": [
    "#Original feature\n",
    "\n",
    "train_original = train\n",
    "train_original = train_original.drop('Wilderness', axis=1)\n",
    "train_original = train_original.drop('Soil_type', axis=1)\n",
    "\n",
    "test_original = dev\n",
    "test_original = test_original.drop('Wilderness', axis=1)\n",
    "test_original = test_original.drop('Soil_type', axis=1)\n",
    "\n",
    "print "
   ]
  },
  {
   "cell_type": "code",
   "execution_count": 45,
   "metadata": {
    "collapsed": false
   },
   "outputs": [],
   "source": [
    "#Combined feature\n",
    "\n",
    "train_combined = train\n",
    "test_combined = dev\n",
    "\n",
    "for i in range(1, 5):\n",
    "    train_combined = train_combined.drop('Wilderness_Area'+str(i), axis=1)\n",
    "    test_combined = test_combined.drop('Wilderness_Area'+str(i), axis=1)\n",
    "    \n",
    "for i in range(1, 41):\n",
    "    train_combined = train_combined.drop('Soil_Type'+str(i), axis=1)\n",
    "    test_combined = test_combined.drop('Soil_Type'+str(i), axis=1)"
   ]
  },
  {
   "cell_type": "code",
   "execution_count": 103,
   "metadata": {
    "collapsed": false
   },
   "outputs": [],
   "source": [
    "#Nomalize feature\n",
    "train_normalize = train\n",
    "test_normalize = dev\n",
    "\n",
    "temp_train_1 = train_normalize.ix[:, 1:11 ]\n",
    "temp_test_1 = test_normalize.ix[:, 1:11]\n",
    "temp_train_2 = train_normalize.ix[:, 11:56 ]\n",
    "temp_test_2 = test_normalize.ix[:, 11:56]\n",
    "\n",
    "normalize = Normalizer()\n",
    "temp_train_1 = normalize.fit_transform(temp_train_1)\n",
    "temp_test_1 = normalize.transform(temp_test_1)\n",
    "\n",
    "train_normalize = numpy.concatenate((temp_train_1,temp_train_2),axis=1)\n",
    "test_normalize = numpy.concatenate((temp_test_1,temp_test_2),axis=1)\n",
    "# for i in label:\n",
    "#     print (train_normalize[i].shape)\n",
    "#     train_normalize[i] = normalize.fit_transform(train_normalize[i])\n",
    "#     test_normalize[i] = normalize.transform(test_normalize[i])"
   ]
  },
  {
   "cell_type": "markdown",
   "metadata": {},
   "source": [
    "### 3. Logistic Regression Model"
   ]
  },
  {
   "cell_type": "markdown",
   "metadata": {},
   "source": [
    "#### a. Original Feature"
   ]
  },
  {
   "cell_type": "code",
   "execution_count": 24,
   "metadata": {
    "collapsed": false
   },
   "outputs": [
    {
     "data": {
      "text/plain": [
       "LogisticRegression(C=1.0, class_weight=None, dual=False, fit_intercept=True,\n",
       "          intercept_scaling=1, max_iter=100, multi_class='ovr', n_jobs=1,\n",
       "          penalty='l2', random_state=1234, solver='liblinear', tol=0.0001,\n",
       "          verbose=0, warm_start=False)"
      ]
     },
     "execution_count": 24,
     "metadata": {},
     "output_type": "execute_result"
    }
   ],
   "source": [
    "y_train = train_original['Cover_Type']\n",
    "x_train = train_original.drop('Cover_Type', axis=1)\n",
    "\n",
    "y_test = test_original['Cover_Type']\n",
    "x_test = test_original.drop('Cover_Type', axis=1)\n",
    "\n",
    "classifier = LogisticRegression(random_state=1234)\n",
    "classifier.fit(x_train,y_train)"
   ]
  },
  {
   "cell_type": "code",
   "execution_count": 25,
   "metadata": {
    "collapsed": false
   },
   "outputs": [
    {
     "name": "stdout",
     "output_type": "stream",
     "text": [
      "REPORT\n",
      "             precision    recall  f1-score   support\n",
      "\n",
      "          1       0.63      0.56      0.59       416\n",
      "          2       0.55      0.52      0.54       433\n",
      "          3       0.57      0.36      0.44       424\n",
      "          4       0.74      0.84      0.79       402\n",
      "          5       0.61      0.72      0.66       482\n",
      "          6       0.53      0.58      0.55       403\n",
      "          7       0.84      0.93      0.88       464\n",
      "\n",
      "avg / total       0.64      0.65      0.64      3024\n",
      "\n"
     ]
    }
   ],
   "source": [
    "y_pred = classifier.predict(x_test)\n",
    "\n",
    "acc = accuracy_score(y_test, y_pred)\n",
    "report = classification_report(y_test, y_pred)\n",
    "print \"REPORT\"\n",
    "print report"
   ]
  },
  {
   "cell_type": "markdown",
   "metadata": {},
   "source": [
    "#### b. Combined Feature"
   ]
  },
  {
   "cell_type": "code",
   "execution_count": 26,
   "metadata": {
    "collapsed": false
   },
   "outputs": [
    {
     "data": {
      "text/plain": [
       "LogisticRegression(C=1.0, class_weight=None, dual=False, fit_intercept=True,\n",
       "          intercept_scaling=1, max_iter=100, multi_class='ovr', n_jobs=1,\n",
       "          penalty='l2', random_state=1234, solver='liblinear', tol=0.0001,\n",
       "          verbose=0, warm_start=False)"
      ]
     },
     "execution_count": 26,
     "metadata": {},
     "output_type": "execute_result"
    }
   ],
   "source": [
    "y_train = train_combined['Cover_Type']\n",
    "x_train = train_combined.drop('Cover_Type', axis=1)\n",
    "\n",
    "y_test = test_combined['Cover_Type']\n",
    "x_test = test_combined.drop('Cover_Type', axis=1)\n",
    "\n",
    "classifier = LogisticRegression(random_state=1234)\n",
    "classifier.fit(x_train,y_train)"
   ]
  },
  {
   "cell_type": "code",
   "execution_count": 27,
   "metadata": {
    "collapsed": false
   },
   "outputs": [
    {
     "name": "stdout",
     "output_type": "stream",
     "text": [
      "REPORT\n",
      "             precision    recall  f1-score   support\n",
      "\n",
      "          1       0.60      0.50      0.55       416\n",
      "          2       0.53      0.48      0.51       433\n",
      "          3       0.52      0.50      0.51       424\n",
      "          4       0.74      0.85      0.79       402\n",
      "          5       0.63      0.54      0.58       482\n",
      "          6       0.53      0.62      0.57       403\n",
      "          7       0.79      0.90      0.84       464\n",
      "\n",
      "avg / total       0.62      0.63      0.62      3024\n",
      "\n"
     ]
    }
   ],
   "source": [
    "y_pred = classifier.predict(x_test)\n",
    "\n",
    "acc = accuracy_score(y_test, y_pred)\n",
    "report = classification_report(y_test, y_pred)\n",
    "print \"REPORT\"\n",
    "print report"
   ]
  },
  {
   "cell_type": "markdown",
   "metadata": {},
   "source": [
    "### 4. Random Forest"
   ]
  },
  {
   "cell_type": "code",
   "execution_count": 142,
   "metadata": {
    "collapsed": false
   },
   "outputs": [
    {
     "data": {
      "text/plain": [
       "RandomForestClassifier(bootstrap=True, class_weight=None, criterion='gini',\n",
       "            max_depth=None, max_features='auto', max_leaf_nodes=None,\n",
       "            min_impurity_split=1e-07, min_samples_leaf=1,\n",
       "            min_samples_split=2, min_weight_fraction_leaf=0.0,\n",
       "            n_estimators=40, n_jobs=1, oob_score=False, random_state=1234,\n",
       "            verbose=0, warm_start=False)"
      ]
     },
     "execution_count": 142,
     "metadata": {},
     "output_type": "execute_result"
    }
   ],
   "source": [
    "y_train = train_original['Cover_Type']\n",
    "x_train = train_original.drop('Cover_Type', axis=1)\n",
    "\n",
    "y_test = test_original['Cover_Type']\n",
    "x_test = test_original.drop('Cover_Type', axis=1)\n",
    "\n",
    "classifier = RandomForestClassifier(random_state=1234, n_estimators=40)\n",
    "classifier.fit(x_train,y_train)"
   ]
  },
  {
   "cell_type": "code",
   "execution_count": 143,
   "metadata": {
    "collapsed": false
   },
   "outputs": [
    {
     "name": "stdout",
     "output_type": "stream",
     "text": [
      "REPORT\n",
      "             precision    recall  f1-score   support\n",
      "\n",
      "          1       0.81      0.78      0.79       443\n",
      "          2       0.80      0.71      0.75       421\n",
      "          3       0.86      0.85      0.85       428\n",
      "          4       0.94      0.97      0.96       439\n",
      "          5       0.90      0.93      0.92       437\n",
      "          6       0.84      0.89      0.86       404\n",
      "          7       0.94      0.98      0.96       452\n",
      "\n",
      "avg / total       0.87      0.87      0.87      3024\n",
      "\n"
     ]
    }
   ],
   "source": [
    "y_pred = classifier.predict(x_test)\n",
    "\n",
    "acc = accuracy_score(y_test, y_pred)\n",
    "report = classification_report(y_test, y_pred)\n",
    "print \"REPORT\"\n",
    "print report"
   ]
  },
  {
   "cell_type": "code",
   "execution_count": 109,
   "metadata": {
    "collapsed": false
   },
   "outputs": [
    {
     "data": {
      "text/plain": [
       "RandomForestClassifier(bootstrap=True, class_weight=None, criterion='gini',\n",
       "            max_depth=None, max_features='auto', max_leaf_nodes=None,\n",
       "            min_impurity_split=1e-07, min_samples_leaf=1,\n",
       "            min_samples_split=2, min_weight_fraction_leaf=0.0,\n",
       "            n_estimators=20, n_jobs=1, oob_score=False, random_state=1234,\n",
       "            verbose=0, warm_start=False)"
      ]
     },
     "execution_count": 109,
     "metadata": {},
     "output_type": "execute_result"
    }
   ],
   "source": [
    "y_train = train_combined['Cover_Type']\n",
    "x_train = train_combined.drop('Cover_Type', axis=1)\n",
    "\n",
    "y_test = test_combined['Cover_Type']\n",
    "x_test = test_combined.drop('Cover_Type', axis=1)\n",
    "\n",
    "classifier = RandomForestClassifier(random_state=1234)\n",
    "classifier.fit(x_train,y_train)"
   ]
  },
  {
   "cell_type": "code",
   "execution_count": 111,
   "metadata": {
    "collapsed": false
   },
   "outputs": [
    {
     "name": "stdout",
     "output_type": "stream",
     "text": [
      "REPORT\n",
      "             precision    recall  f1-score   support\n",
      "\n",
      "        1.0       0.73      0.76      0.74       443\n",
      "        2.0       0.71      0.62      0.66       421\n",
      "        3.0       0.81      0.81      0.81       428\n",
      "        4.0       0.92      0.97      0.94       439\n",
      "        5.0       0.90      0.91      0.91       437\n",
      "        6.0       0.82      0.82      0.82       404\n",
      "        7.0       0.95      0.96      0.95       452\n",
      "\n",
      "avg / total       0.84      0.84      0.84      3024\n",
      "\n"
     ]
    }
   ],
   "source": [
    "y_pred = classifier.predict(x_test)\n",
    "\n",
    "acc = accuracy_score(y_test, y_pred)\n",
    "report = classification_report(y_test, y_pred)\n",
    "print \"REPORT\"\n",
    "print report"
   ]
  },
  {
   "cell_type": "code",
   "execution_count": 110,
   "metadata": {
    "collapsed": false
   },
   "outputs": [
    {
     "data": {
      "text/plain": [
       "RandomForestClassifier(bootstrap=True, class_weight=None, criterion='gini',\n",
       "            max_depth=None, max_features='auto', max_leaf_nodes=None,\n",
       "            min_impurity_split=1e-07, min_samples_leaf=1,\n",
       "            min_samples_split=2, min_weight_fraction_leaf=0.0,\n",
       "            n_estimators=10, n_jobs=1, oob_score=False, random_state=1234,\n",
       "            verbose=0, warm_start=False)"
      ]
     },
     "execution_count": 110,
     "metadata": {},
     "output_type": "execute_result"
    }
   ],
   "source": [
    "y_train = train_normalize[:, 54]\n",
    "x_train = train_normalize[:,:54]\n",
    "\n",
    "y_test = test_normalize[:,54]\n",
    "x_test = test_normalize[:,:54]\n",
    "\n",
    "classifier = RandomForestClassifier(random_state=1234)\n",
    "classifier.fit(x_train,y_train)"
   ]
  },
  {
   "cell_type": "code",
   "execution_count": 108,
   "metadata": {
    "collapsed": false
   },
   "outputs": [
    {
     "name": "stdout",
     "output_type": "stream",
     "text": [
      "REPORT\n",
      "             precision    recall  f1-score   support\n",
      "\n",
      "        1.0       0.73      0.76      0.74       443\n",
      "        2.0       0.71      0.62      0.66       421\n",
      "        3.0       0.81      0.81      0.81       428\n",
      "        4.0       0.92      0.97      0.94       439\n",
      "        5.0       0.90      0.91      0.91       437\n",
      "        6.0       0.82      0.82      0.82       404\n",
      "        7.0       0.95      0.96      0.95       452\n",
      "\n",
      "avg / total       0.84      0.84      0.84      3024\n",
      "\n"
     ]
    }
   ],
   "source": [
    "y_pred = classifier.predict(x_test)\n",
    "\n",
    "acc = accuracy_score(y_test, y_pred)\n",
    "report = classification_report(y_test, y_pred)\n",
    "print \"REPORT\"\n",
    "print report"
   ]
  },
  {
   "cell_type": "markdown",
   "metadata": {},
   "source": [
    "### 5. ExtraTree"
   ]
  },
  {
   "cell_type": "code",
   "execution_count": 153,
   "metadata": {
    "collapsed": false
   },
   "outputs": [
    {
     "data": {
      "text/plain": [
       "ExtraTreesClassifier(bootstrap=False, class_weight=None, criterion='gini',\n",
       "           max_depth=None, max_features='auto', max_leaf_nodes=None,\n",
       "           min_impurity_split=1e-07, min_samples_leaf=1,\n",
       "           min_samples_split=2, min_weight_fraction_leaf=0.0,\n",
       "           n_estimators=40, n_jobs=1, oob_score=False, random_state=1234,\n",
       "           verbose=0, warm_start=False)"
      ]
     },
     "execution_count": 153,
     "metadata": {},
     "output_type": "execute_result"
    }
   ],
   "source": [
    "y_train = train_original['Cover_Type']\n",
    "x_train = train_original.drop('Cover_Type', axis=1)\n",
    "\n",
    "y_test = test_original['Cover_Type']\n",
    "x_test = test_original.drop('Cover_Type', axis=1)\n",
    "\n",
    "classifier = ExtraTreesClassifier(random_state=1234, n_estimators=40)\n",
    "classifier.fit(x_train,y_train)"
   ]
  },
  {
   "cell_type": "code",
   "execution_count": 158,
   "metadata": {
    "collapsed": false
   },
   "outputs": [
    {
     "name": "stdout",
     "output_type": "stream",
     "text": [
      "REPORT\n",
      "accuracy  0.894736842105\n",
      "             precision    recall  f1-score   support\n",
      "\n",
      "          1       0.80      0.95      0.87        21\n",
      "          2       0.90      0.73      0.81        26\n",
      "          3       0.79      0.79      0.79        19\n",
      "          4       1.00      0.93      0.97        15\n",
      "          5       0.95      0.95      0.95        22\n",
      "          6       0.85      0.92      0.88        25\n",
      "          7       1.00      1.00      1.00        24\n",
      "\n",
      "avg / total       0.90      0.89      0.89       152\n",
      "\n"
     ]
    }
   ],
   "source": [
    "y_pred = classifier.predict(x_test)\n",
    "\n",
    "acc = accuracy_score(y_test, y_pred)\n",
    "report = classification_report(y_test, y_pred)\n",
    "print \"REPORT\"\n",
    "print 'accuracy ', acc\n",
    "print report"
   ]
  },
  {
   "cell_type": "markdown",
   "metadata": {},
   "source": [
    "### 6. Run on test data"
   ]
  },
  {
   "cell_type": "code",
   "execution_count": 169,
   "metadata": {
    "collapsed": false
   },
   "outputs": [
    {
     "data": {
      "text/plain": [
       "ExtraTreesClassifier(bootstrap=False, class_weight=None, criterion='gini',\n",
       "           max_depth=None, max_features='auto', max_leaf_nodes=None,\n",
       "           min_impurity_split=1e-07, min_samples_leaf=1,\n",
       "           min_samples_split=2, min_weight_fraction_leaf=0.0,\n",
       "           n_estimators=40, n_jobs=1, oob_score=False, random_state=1234,\n",
       "           verbose=0, warm_start=False)"
      ]
     },
     "execution_count": 169,
     "metadata": {},
     "output_type": "execute_result"
    }
   ],
   "source": [
    "train_df = pd.read_csv('resource/train.csv')\n",
    "test_df = pd.read_csv('resource/test.csv')\n",
    "\n",
    "train_df.drop('Id', axis=1)\n",
    "\n",
    "test_id = test_df['Id']\n",
    "train_df.drop('Id', axis=1)\n",
    "\n",
    "y_train = train_df['Cover_Type']\n",
    "x_train = train_df.drop('Cover_Type', axis=1)\n",
    "classifier = ExtraTreesClassifier(random_state=1234, n_estimators=40)\n",
    "classifier.fit(x_train,y_train)"
   ]
  },
  {
   "cell_type": "code",
   "execution_count": 170,
   "metadata": {
    "collapsed": false
   },
   "outputs": [],
   "source": [
    "x_test = test_df\n",
    "y_pred = classifier.predict(x_test)\n",
    "\n",
    "with open(\"submission.csv\", \"w\") as subfile:\n",
    "    subfile.write(\"Id,Cover_Type\\n\")\n",
    "    for i in range(len(test_id)):\n",
    "        subfile.write(\"%s,%s\\n\"%(test_id[i],y_pred[i]))"
   ]
  },
  {
   "cell_type": "markdown",
   "metadata": {},
   "source": [
    "#### Score on Kaggle: 0.71231"
   ]
  }
 ],
 "metadata": {
  "anaconda-cloud": {},
  "kernelspec": {
   "display_name": "Python [Root]",
   "language": "python",
   "name": "Python [Root]"
  },
  "language_info": {
   "codemirror_mode": {
    "name": "ipython",
    "version": 2
   },
   "file_extension": ".py",
   "mimetype": "text/x-python",
   "name": "python",
   "nbconvert_exporter": "python",
   "pygments_lexer": "ipython2",
   "version": "2.7.12"
  }
 },
 "nbformat": 4,
 "nbformat_minor": 0
}
